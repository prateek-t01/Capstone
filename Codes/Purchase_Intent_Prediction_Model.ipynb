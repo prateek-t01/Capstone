{
 "cells": [
  {
   "cell_type": "markdown",
   "id": "bd53da8e-44d1-40bb-9d5e-f4184733e47b",
   "metadata": {},
   "source": [
    "### Data Source: \n",
    "http://archive.ics.uci.edu/ml/datasets/Online+Shoppers+Purchasing+Intention+Dataset\n",
    "        \n",
    "### Data Description: \n",
    "The dataset consists of feature vectors belonging to 12,330 sessions. The dataset was formed so that each session would belong to a different user in a 1-year period to avoid any tendency to a specific campaign, special day, user profile, or period. Of the 12,330 sessions in the dataset, 84.5% (10,422) were negative class samples that did not end with shopping, and the rest (1908) were positive class samples ending with shopping.\n",
    "\n",
    "#### Numerical features\n",
    "| Feature name | Feature description                                                 | Min. val | Max. val | SD     |\n",
    "|:-------------|:--------------------------------------------------------------------|:---------|:---------|:-------|\n",
    "| Admin.       | #pages visited by the visitor about account management              | 0        | 27       | 3.32   |\n",
    "| Ad. duration | #seconds spent by the visitor on account management related pages\t | 0        | 3398     | 176.70 |\n",
    "| Info.        | #informational pages visited by the visitor                         | 0        | 24       | 1.26   |\n",
    "| Info. durat. | #seconds spent by the visitor on informational pages\t             | 0        | 2549     | 140.64 |\n",
    "| Prod.        | #pages visited by visitor about product related pages\t             | 0        | 705      | 44.45  |\n",
    "| Prod.durat.  | #seconds spent by the visitor on product related pages\t             | 0        | 63,973   | 1912.3 |\n",
    "| Bounce rate  | Average bounce rate value of the pages visited by the visitor\t     | 0        | 0.2      | 0.04   |\n",
    "| Exit rate\t   | Average exit rate value of the pages visited by the visitor         | 0        | 0.2      | 0.05   |\n",
    "| Page value   | Average page value of the pages visited by the visitor\t             | 0        | 361      | 18.55  |\n",
    "| Special day  | Closeness of the site visiting time to a special day\t             | 0        | 1.0      | 0.19   |\n",
    "\n",
    "#### Categorical features\n",
    "| Feature name        | Feature description                                                      | Number of Values |\n",
    "|:--------------------|:-------------------------------------------------------------------------|:-----------------|\n",
    "| OperatingSystems    | Operating system of the visitor                                          | 8                |\n",
    "| Browser             | Browser of the visitor                                                   | 13               |\n",
    "| Region              | Geographic region from which the session has been started by the visitor | 9                |\n",
    "| TrafficType         | Traffic source (e.g., banner, SMS, direct)                               | 20               |\n",
    "| VisitorType         | Visitor type as “New Visitor,” “Returning Visitor,” and “Other”\t         | 3                |\n",
    "| Weekend             | Boolean value indicating whether the date of the visit is weekend        | 2                |\n",
    "| Month               | Month value of the visit date                                            | 12               |\n",
    "| Revenue             | Class label: whether the visit has been finalized with a transaction     | 2                |"
   ]
  },
  {
   "cell_type": "code",
   "execution_count": null,
   "id": "092b6fbd-29bd-4e84-85df-ab6cd7b209bd",
   "metadata": {},
   "outputs": [],
   "source": [
    "import pandas as pd\n",
    "import numpy as np\n",
    "from statsmodels.stats.outliers_influence import variance_inflation_factor\n",
    "from sklearn.model_selection import train_test_split\n",
    "from sklearn.linear_model import LinearRegression\n",
    "from sklearn.metrics import mean_absolute_error, mean_squared_error, r2_score\n",
    "import matplotlib.pyplot as plt\n",
    "import seaborn as sns\n",
    "from statsmodels.stats.outliers_influence import variance_inflation_factor\n",
    "from sklearn.ensemble import RandomForestRegressor\n",
    "from sklearn.metrics import mean_absolute_error, mean_squared_error, r2_score\n",
    "from hyperopt import hp, fmin, tpe, STATUS_OK, Trials\n",
    "import xgboost as xgb\n"
   ]
  }
 ],
 "metadata": {
  "kernelspec": {
   "display_name": "Python 3 (ipykernel)",
   "language": "python",
   "name": "python3"
  },
  "language_info": {
   "codemirror_mode": {
    "name": "ipython",
    "version": 3
   },
   "file_extension": ".py",
   "mimetype": "text/x-python",
   "name": "python",
   "nbconvert_exporter": "python",
   "pygments_lexer": "ipython3",
   "version": "3.11.7"
  }
 },
 "nbformat": 4,
 "nbformat_minor": 5
}
